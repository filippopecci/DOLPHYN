{
 "cells": [
  {
   "cell_type": "code",
   "execution_count": 14,
   "metadata": {},
   "outputs": [
    {
     "data": {
      "text/plain": [
       "find_jl_files (generic function with 1 method)"
      ]
     },
     "metadata": {},
     "output_type": "display_data"
    }
   ],
   "source": [
    "#  Functions to find all the Julia files in a directory and subdirectories\n",
    "function filter_jl_files(dir_list::Vector{String})\n",
    "    \"\"\"Filter a list of filenames into a list of Julia files and a list of non-Julia files\"\"\"\n",
    "    jl_files = filter(x -> endswith(x, \".jl\"), dir_list)\n",
    "    non_jl_files = setdiff(dir_list, jl_files)\n",
    "    return jl_files, non_jl_files\n",
    "end\n",
    "\n",
    "function add_filepaths!(filepaths::Dict{String, String}, dir_path::String, dir_list::Vector{String})\n",
    "    \"\"\"Add a list of filepaths to a dictionary\"\"\"\n",
    "    for file in dir_list\n",
    "        filepaths[file] = joinpath(dir_path, file)\n",
    "    end\n",
    "end\n",
    "\n",
    "function find_jl_files(dir_path::String)\n",
    "    \"\"\"Find all Julia files in a directory and subdirectories\"\"\"\n",
    "    filepaths = Dict{String, String}()\n",
    "    jl_files, non_jl_files = filter_jl_files(readdir(dir_path))\n",
    "    add_filepaths!(filepaths, dir_path, jl_files)\n",
    "    new_dirs = filter(x -> isdir(joinpath(dir_path, x)), non_jl_files)\n",
    "    for new_dir in new_dirs\n",
    "        merge!(filepaths, find_jl_files(joinpath(dir_path, new_dir)))\n",
    "    end\n",
    "    return filepaths\n",
    "end"
   ]
  },
  {
   "cell_type": "code",
   "execution_count": 29,
   "metadata": {},
   "outputs": [
    {
     "data": {
      "text/plain": [
       "make_filestrings (generic function with 2 methods)"
      ]
     },
     "metadata": {},
     "output_type": "display_data"
    }
   ],
   "source": [
    "# Functions to read a Julia file, clean it, and return it as a long string\n",
    "function clean_file(dir_path::String)\n",
    "    \"\"\"\n",
    "        filestring = clean_file(dir_path::String)\n",
    "\n",
    "    Read a Julia file line by line,\n",
    "    removing all comments and doc strings,\n",
    "    then appending each line to a string with a space\n",
    "    \"\"\"\n",
    "    open(dir_path, \"r\") do file\n",
    "        filestring = \"\"\n",
    "        long_comment = false\n",
    "        for line in eachline(file)\n",
    "            # Check for doc strings and ignore them\n",
    "            if contains(line, \"\"\"\\\"\\\"\\\"\"\"\")\n",
    "                long_comment = !long_comment\n",
    "            end\n",
    "            if long_comment\n",
    "                continue\n",
    "            else \n",
    "                # Remove comments\n",
    "                if !startswith(strip(line), \"#\") && line != \"\"\n",
    "                    # Remove tabs\n",
    "                    line = replace(line, \"\\t\" => \" \")\n",
    "                    # Make all one line, but add space to avoid concatenating words\n",
    "                    filestring = string(filestring, \" \", line)\n",
    "                end\n",
    "            end\n",
    "        end\n",
    "        return filestring\n",
    "    end\n",
    "end\n",
    "\n",
    "function make_filestrings(filepath::Dict{String, String})\n",
    "    \"\"\"Make a dictionary of filestrings from a dictionary of filepaths\"\"\"\n",
    "    filestrings = Dict{String, String}()\n",
    "    for (filename, filepath) in filepaths\n",
    "        filestrings[filename] = clean_file(filepath)\n",
    "    end\n",
    "    return filestrings\n",
    "end"
   ]
  },
  {
   "cell_type": "code",
   "execution_count": 16,
   "metadata": {},
   "outputs": [
    {
     "data": {
      "text/plain": [
       "filter_filestring (generic function with 1 method)"
      ]
     },
     "metadata": {},
     "output_type": "display_data"
    }
   ],
   "source": [
    "# Functions to extract model features from a filestring\n",
    "function extract_feature_name(filestring::AbstractString, filter_prefix::AbstractString)\n",
    "    \"\"\"Extract the name of a model feature from a file-substring\"\"\"\n",
    "    x = split(filestring, \",\")\n",
    "    # Try to extract the name based on a prefix\n",
    "    x2 = split(x[2], \" \")\n",
    "    x2 = filter(x -> startswith(x, filter_prefix), x2)\n",
    "    if !isempty(x2)\n",
    "        x = x2[1]\n",
    "    else\n",
    "        x = x[2]\n",
    "    end\n",
    "    # Remove any indexing\n",
    "    if contains(x, \"[\")\n",
    "        x = split(x, \"[\")[1]\n",
    "    end\n",
    "    # Remove whitespace\n",
    "    return strip(x)\n",
    "end\n",
    "\n",
    "function filter_filestring(filestring::String, filter_string::String)\n",
    "    \"\"\"Create a list of the names of all the model feature of a given type, from a filestring\"\"\"\n",
    "    cases = split(filestring, filter_string)\n",
    "    feature_names = Vector{String}()\n",
    "    filter_prefix = string(filter_string[2])\n",
    "    for i in 2:length(cases)\n",
    "        push!(feature_names, extract_feature_name(cases[i], filter_prefix))\n",
    "    end\n",
    "    return feature_names\n",
    "end"
   ]
  },
  {
   "cell_type": "code",
   "execution_count": 57,
   "metadata": {},
   "outputs": [],
   "source": [
    "# Get all Julia files in the src directory\n",
    "src_path = joinpath(dirname(pwd()), \"src\")\n",
    "filepaths = find_jl_files(src_path)\n",
    "\n",
    "# Clean all Julia files and return them as strings\n",
    "filestrings = make_filestrings(filepaths)\n",
    "\n",
    "exp_and_vars = Dict(\"var\" => Dict{String, Any}(), \"exp\" => Dict{String, Any}())\n",
    "\n",
    "# Create a dictionary of all the model features we'd like to search for, and the details of interest\n",
    "features_to_search = Dict(\n",
    "    \"var\" => Dict(\"filter_string\" => \"@variable\", \"details\" => [\"created\", \"accessed\"]),\n",
    "    \"exp\" => Dict(\"filter_string\" => \"@expression\", \"details\" => [\"created\", \"accessed\"]),\n",
    ")\n",
    "\n",
    "# Create dictionary to hold search results\n",
    "# We could be more specific and make the last Dict{String, String||List}, but this is safer\n",
    "search_results = Dict{String, Dict{String, Any}}()\n",
    "for (search_name, search_details) in features_to_search\n",
    "    search_results[search_name] = Dict{String, Dict{String, Any}}()\n",
    "end\n",
    "\n",
    "# Find the file in which each feature is created\n",
    "for (search_name, search_details) in features_to_search\n",
    "    find_feature_creation!(search_results[search_name], filestrings, search_details[\"filter_string\"])\n",
    "end\n"
   ]
  },
  {
   "cell_type": "code",
   "execution_count": 50,
   "metadata": {},
   "outputs": [
    {
     "data": {
      "text/plain": [
       "find_feature_creation! (generic function with 1 method)"
      ]
     },
     "metadata": {},
     "output_type": "display_data"
    }
   ],
   "source": [
    "function find_feature_creation!(feature_results::Dict{String, Any}, filestrings::Dict{String, String}, feature_name::String)\n",
    "    \"\"\"Find the files in which a set of features is created\"\"\"\n",
    "    for (filename, filestring) in filestrings\n",
    "        new_feature_names = filter_filestring(filestring, feature_name)\n",
    "        for new_name in new_feature_names\n",
    "            if !haskey(feature_results, new_name)\n",
    "                feature_results[new_name] = Dict{String, Any}()\n",
    "            end\n",
    "            feature_results[new_name][\"created\"] = filename\n",
    "        end\n",
    "    end\n",
    "end"
   ]
  },
  {
   "cell_type": "code",
   "execution_count": 17,
   "metadata": {},
   "outputs": [
    {
     "data": {
      "text/plain": [
       "find_exp_var_created (generic function with 1 method)"
      ]
     },
     "metadata": {},
     "output_type": "display_data"
    }
   ],
   "source": [
    "function find_exp_var_created(filepaths::Dict{String, String})\n",
    "    # exp_and_vars = Dict{String, Dict{String, String}}(\"var\" => Dict{String, String}(), \"exp\" => Dict{String, String}())\n",
    "    exp_and_vars = Dict(\"var\" => Dict{String, Any}(), \"exp\" => Dict{String, Any}())\n",
    "    for (filename, filepath) in filepaths\n",
    "        # println(filename)\n",
    "        filestring = clean_file(filepath)\n",
    "        new_var = filter_filestring(filestring, \"@variable\")\n",
    "        for var in new_var\n",
    "            if !haskey(exp_and_vars[\"var\"], var)\n",
    "                exp_and_vars[\"var\"][var] = Dict(\"created\" => filename, \"accessed\" => Vector{String}())\n",
    "            end\n",
    "            exp_and_vars[\"var\"][var][\"created\"] = filename\n",
    "        end\n",
    "        new_exp = filter_filestring(filestring, \"@expression\")\n",
    "        for exp in new_exp\n",
    "            if !haskey(exp_and_vars[\"exp\"], exp)\n",
    "                exp_and_vars[\"exp\"][exp] = Dict(\"created\" => filename, \"accessed\" => Vector{String}())\n",
    "            end\n",
    "            exp_and_vars[\"exp\"][exp][\"created\"] = filename\n",
    "        end\n",
    "    end\n",
    "    return exp_and_vars\n",
    "end"
   ]
  },
  {
   "cell_type": "code",
   "execution_count": 18,
   "metadata": {},
   "outputs": [
    {
     "data": {
      "text/plain": [
       "check_access (generic function with 1 method)"
      ]
     },
     "metadata": {},
     "output_type": "display_data"
    }
   ],
   "source": [
    "function check_access(filepaths::Dict{String, String}, target_names::Vector{String})\n",
    "    file_accesses = Dict{String, Vector{String}}()\n",
    "    for (filename, filepath) in filepaths\n",
    "        filestring = clean_file(filepath)\n",
    "        file_accesses[filename] = Vector{String}()\n",
    "        for target_name in target_names\n",
    "            if contains(filestring, target_name)\n",
    "                push!(file_accesses[filename], target_name)\n",
    "            end\n",
    "        end\n",
    "    end\n",
    "    return file_accesses\n",
    "end\n",
    "\n",
    "function push_accesses!(exp_or_vars::Dict{String, Any}, accesses::Dict{String, Vector{String}})\n",
    "    for (filename, model_names) in accesses\n",
    "        for model_name in model_names\n",
    "            push!(exp_or_vars[model_name][\"accessed\"], filename)\n",
    "        end\n",
    "    end\n",
    "end\n",
    "\n",
    "function get_all_accesses!(exp_and_vars::Dict{String, Dict{String, Any}}, filepaths::Dict{String, String})\n",
    "    var_accessed = check_access(filepaths, collect(keys(exp_and_vars[\"var\"])))\n",
    "    push_accesses!(exp_and_vars[\"var\"], var_accessed)\n",
    "    exp_accessed = check_access(filepaths, collect(keys(exp_and_vars[\"exp\"])))\n",
    "    push_accesses!(exp_and_vars[\"exp\"], exp_accessed)\n",
    "end"
   ]
  },
  {
   "cell_type": "code",
   "execution_count": 21,
   "metadata": {},
   "outputs": [
    {
     "data": {
      "text/plain": [
       "make_table_header (generic function with 1 method)"
      ]
     },
     "metadata": {},
     "output_type": "display_data"
    }
   ],
   "source": [
    "function make_table_header(headers::Set{String}, model_type::String)\n",
    "    fun_headers = copy(headers)\n",
    "    table_header = \"|$(model_type) name\"\n",
    "    table_divider = \"|:-\"\n",
    "    if \"created\" in fun_headers\n",
    "        table_header = string(table_header, \"|created\")\n",
    "        table_divider = string(table_divider, \"|:-\")\n",
    "        delete!(fun_headers, \"created\")\n",
    "    end    \n",
    "    for header in fun_headers\n",
    "        table_header = string(table_header, \"|\", header)\n",
    "        table_divider = string(table_divider, \"|\", \":-\")\n",
    "    end\n",
    "    table_header = string(table_header, \"|\")\n",
    "    table_divider = string(table_divider, \"|\")\n",
    "    return table_header, table_divider\n",
    "end"
   ]
  },
  {
   "cell_type": "code",
   "execution_count": 22,
   "metadata": {},
   "outputs": [
    {
     "data": {
      "text/plain": [
       "make_table_row (generic function with 1 method)"
      ]
     },
     "metadata": {},
     "output_type": "display_data"
    }
   ],
   "source": [
    "function make_table_row(model_name::String, model_dict::Dict{String, Any}, headers::Set{String})\n",
    "    table_row = \"|$(model_name)\"\n",
    "    fun_headers = copy(headers)\n",
    "    if \"created\" in fun_headers\n",
    "        table_row = string(table_row, \"|\", model_dict[\"created\"])\n",
    "        delete!(fun_headers, \"created\")\n",
    "    end\n",
    "    for header in fun_headers\n",
    "        table_row = string(table_row, \"|\", join(model_dict[header], \", \"))\n",
    "    end\n",
    "    table_row = string(table_row, \"|\")\n",
    "    return table_row\n",
    "end"
   ]
  },
  {
   "cell_type": "code",
   "execution_count": 23,
   "metadata": {},
   "outputs": [
    {
     "data": {
      "text/plain": [
       "data_2_markdown (generic function with 1 method)"
      ]
     },
     "metadata": {},
     "output_type": "display_data"
    }
   ],
   "source": [
    "function data_2_markdown(exp_or_vars::Dict{String, Any}, model_type::String, headers::Set{String})\n",
    "    table = Vector{String}()\n",
    "    push!(table, \"## $(model_type)s\")\n",
    "    table_header, table_divider = make_table_header(headers, model_type)\n",
    "    push!(table, table_header)\n",
    "    push!(table, table_divider)\n",
    "    sorted_names = sort(collect(keys(exp_or_vars)))\n",
    "    # for (name, data) in exp_or_vars\n",
    "    for name in sorted_names\n",
    "        push!(table, make_table_row(name, exp_or_vars[name], headers))\n",
    "    end\n",
    "    return table\n",
    "end"
   ]
  },
  {
   "cell_type": "code",
   "execution_count": 38,
   "metadata": {},
   "outputs": [],
   "source": [
    "# Get all Julia files in the src directory\n",
    "src_path = joinpath(dirname(pwd()), \"src\")\n",
    "filepaths = find_jl_files(src_path)\n",
    "\n",
    "# Find where all the Variables and Expressions are defined\n",
    "exp_and_vars = find_exp_var_created(filepaths)\n",
    "\n",
    "# Find where each Variable is accessed\n",
    "get_all_accesses!(exp_and_vars, filepaths)\n",
    "headers = Set{String}([\"created\", \"accessed\"])\n",
    "\n",
    "var_table = data_2_markdown(exp_and_vars[\"var\"], \"Variable\", headers)\n",
    "exp_table = data_2_markdown(exp_and_vars[\"exp\"], \"Expression\", headers)\n",
    "\n",
    "open(joinpath(pwd(), \"model_table.md\"), \"w\") do io\n",
    "    println(io, \"# Model Variables and Expressions\")\n",
    "    for line in var_table\n",
    "        println(io, line)\n",
    "    end\n",
    "    for line in exp_table\n",
    "        println(io, line)\n",
    "    end\n",
    "end\n",
    "\n",
    "# Find where the Objective is defined, and each of the components of the Objective"
   ]
  },
  {
   "cell_type": "code",
   "execution_count": 43,
   "metadata": {},
   "outputs": [
    {
     "data": {
      "text/plain": [
       "Dict{String, Any} with 2 entries:\n",
       "  \"accessed\" => [\"storage_symmetric.jl\", \"reserves.jl\", \"storage_all.jl\"]\n",
       "  \"created\"  => \"reserves.jl\""
      ]
     },
     "metadata": {},
     "output_type": "display_data"
    }
   ],
   "source": [
    "exp_and_vars[\"var\"][\"vREG_discharge\"]"
   ]
  },
  {
   "cell_type": "code",
   "execution_count": 25,
   "metadata": {},
   "outputs": [
    {
     "name": "stdout",
     "output_type": "stream",
     "text": [
      "thermal_commit\n",
      "EP::Model\n",
      "inputs::Dict\n",
      "Reserves::Int\n",
      "thermal_commit_reserves\n",
      "EP::Model\n",
      "inputs::Dict\n",
      "hoursbefore\n",
      "p::Int\n",
      "t::Int\n",
      "b::UnitRange{Int}\n"
     ]
    }
   ],
   "source": [
    "filename = \"thermal_commit.jl\"\n",
    "filepath = filepaths[filename]\n",
    "filestring = clean_file(filepath)\n",
    "q = split(filestring, \"function \")\n",
    "q = q[2:end]\n",
    "for w in q\n",
    "    # w = q[1]\n",
    "    w = split(w, \"(\")\n",
    "    fun_name = w[1]\n",
    "    fun_args = split(split(w[2], \")\")[1], \", \")\n",
    "    println(fun_name)\n",
    "    for a in fun_args\n",
    "        println(a)\n",
    "    end\n",
    "end"
   ]
  },
  {
   "cell_type": "code",
   "execution_count": 26,
   "metadata": {},
   "outputs": [
    {
     "data": {
      "text/plain": [
       "find_functions (generic function with 1 method)"
      ]
     },
     "metadata": {},
     "output_type": "display_data"
    }
   ],
   "source": [
    "function find_functions(filepaths::Dict{String, String})\n",
    "    function_names = Dict{String, String}()\n",
    "    for (filename, filepath) in filepaths\n",
    "        filestring = clean_file(filepath)\n",
    "        new_functions = filter_filestring(filestring, \"function \")\n",
    "        for fun in new_functions\n",
    "            if !haskey(function_names, fun)\n",
    "                function_names[fun] = filename\n",
    "            end\n",
    "        end\n",
    "    end\n",
    "    return function_names\n",
    "end"
   ]
  }
 ],
 "metadata": {
  "kernelspec": {
   "display_name": "Julia 1.8.2",
   "language": "julia",
   "name": "julia-1.8"
  },
  "language_info": {
   "file_extension": ".jl",
   "mimetype": "application/julia",
   "name": "julia",
   "version": "1.8.2"
  },
  "orig_nbformat": 4,
  "vscode": {
   "interpreter": {
    "hash": "aee8b7b246df8f9039afb4144a1f6fd8d2ca17a180786b69acc140d282b71a49"
   }
  }
 },
 "nbformat": 4,
 "nbformat_minor": 2
}
