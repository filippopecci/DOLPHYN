{
 "cells": [
  {
   "cell_type": "code",
   "execution_count": 43,
   "metadata": {},
   "outputs": [
    {
     "data": {
      "text/plain": [
       "find_jl_files (generic function with 1 method)"
      ]
     },
     "metadata": {},
     "output_type": "display_data"
    }
   ],
   "source": [
    "function filter_jl_files(dir_list::Vector{String})\n",
    "    jl_files = filter(x -> endswith(x, \".jl\"), dir_list)\n",
    "    non_jl_files = setdiff(dir_list, jl_files)\n",
    "    return jl_files, non_jl_files\n",
    "end\n",
    "\n",
    "function add_filepaths!(filepaths::Dict{String, String}, dir_path::String, dir_list::Vector{String})\n",
    "    for file in dir_list\n",
    "        filepaths[file] = joinpath(dir_path, file)\n",
    "    end\n",
    "end\n",
    "\n",
    "function find_jl_files(dir_path::String)\n",
    "    filepaths = Dict{String, String}()\n",
    "    jl_files, non_jl_files = filter_jl_files(readdir(dir_path))\n",
    "    add_filepaths!(filepaths, dir_path, jl_files)\n",
    "    new_dirs = filter(x -> isdir(joinpath(dir_path, x)), non_jl_files)\n",
    "    for new_dir in new_dirs\n",
    "        merge!(filepaths, find_jl_files(joinpath(dir_path, new_dir)))\n",
    "    end\n",
    "    return filepaths\n",
    "end"
   ]
  },
  {
   "cell_type": "code",
   "execution_count": 44,
   "metadata": {},
   "outputs": [
    {
     "data": {
      "text/plain": [
       "make_filestrings (generic function with 1 method)"
      ]
     },
     "metadata": {},
     "output_type": "display_data"
    }
   ],
   "source": [
    "function clean_file(dir_path::String)\n",
    "    open(dir_path, \"r\") do file\n",
    "        output_lines = \"\"\n",
    "        long_comment = false\n",
    "        for line in eachline(file)\n",
    "            # Check for doc strings and ignore them\n",
    "            if contains(line, \"\"\"\\\"\\\"\\\"\"\"\")\n",
    "                long_comment = !long_comment\n",
    "            end\n",
    "            if long_comment\n",
    "                continue\n",
    "            else \n",
    "                # Remove comments\n",
    "                if !startswith(strip(line), \"#\") && line != \"\"\n",
    "                    # Remove tabs\n",
    "                    line = replace(line, \"\\t\" => \" \")\n",
    "                    # Make all one line, but add space to avoid concatenating words\n",
    "                    output_lines = string(output_lines, \" \", line)\n",
    "                end\n",
    "            end\n",
    "        end\n",
    "        return output_lines\n",
    "    end\n",
    "end\n",
    "\n",
    "function make_filestrings(filepath::String)\n",
    "    filestrings = Dict{String, String}()\n",
    "    for (filename, filepath) in filepaths\n",
    "        filestrings[filename] = clean_file(filepath)\n",
    "    end\n",
    "    return filestrings\n",
    "end"
   ]
  },
  {
   "cell_type": "code",
   "execution_count": 45,
   "metadata": {},
   "outputs": [
    {
     "data": {
      "text/plain": [
       "filter_filestring (generic function with 1 method)"
      ]
     },
     "metadata": {},
     "output_type": "display_data"
    }
   ],
   "source": [
    "function filter_exp_var!(exp_and_vars::Dict{String, Dict{String, String}}, line::String)\n",
    "    if contains(line, \"@variable\")\n",
    "        var_name = get_var_name(line)\n",
    "        exp_and_vars[\"var\"][var_name] = filename\n",
    "    elseif contains(line, \"@expression\")\n",
    "        exp_name = get_exp_name(line)\n",
    "        exp_and_vars[\"exp\"][exp_name] = filename\n",
    "    end\n",
    "end\n",
    "\n",
    "function extract_model_name(filestring::AbstractString, filter_prefix::AbstractString)\n",
    "    x = split(filestring, \",\")\n",
    "    # Try to extract the name based on a prefix\n",
    "    x2 = split(x[2], \" \")\n",
    "    x2 = filter(x -> startswith(x, filter_prefix), x2)\n",
    "    if !isempty(x2)\n",
    "        x = x2[1]\n",
    "    else\n",
    "        x = x[2]\n",
    "    end\n",
    "    # Remove any indexing\n",
    "    if contains(x, \"[\")\n",
    "        x = split(x, \"[\")[1]\n",
    "    end\n",
    "    # Remove whitespace\n",
    "    return strip(x)\n",
    "end\n",
    "\n",
    "function filter_filestring(filestring::String, filter_string::String)\n",
    "    cases = split(filestring, filter_string)\n",
    "    outputs = Vector{String}()\n",
    "    filter_prefix = string(filter_string[2])\n",
    "    for i in 2:length(cases)\n",
    "        push!(outputs, extract_model_name(cases[i], filter_prefix))\n",
    "    end\n",
    "    return outputs\n",
    "end"
   ]
  },
  {
   "cell_type": "code",
   "execution_count": 46,
   "metadata": {},
   "outputs": [
    {
     "data": {
      "text/plain": [
       "find_exp_var_created (generic function with 1 method)"
      ]
     },
     "metadata": {},
     "output_type": "display_data"
    }
   ],
   "source": [
    "function find_exp_var_created(filepaths::Dict{String, String})\n",
    "    # exp_and_vars = Dict{String, Dict{String, String}}(\"var\" => Dict{String, String}(), \"exp\" => Dict{String, String}())\n",
    "    exp_and_vars = Dict(\"var\" => Dict{String, Any}(), \"exp\" => Dict{String, Any}())\n",
    "    for (filename, filepath) in filepaths\n",
    "        # println(filename)\n",
    "        filestring = clean_file(filepath)\n",
    "        new_var = filter_filestring(filestring, \"@variable\")\n",
    "        for var in new_var\n",
    "            if !haskey(exp_and_vars[\"var\"], var)\n",
    "                exp_and_vars[\"var\"][var] = Dict(\"created\" => filename, \"accessed\" => Vector{String}())\n",
    "            end\n",
    "            exp_and_vars[\"var\"][var][\"created\"] = filename\n",
    "        end\n",
    "        new_exp = filter_filestring(filestring, \"@expression\")\n",
    "        for exp in new_exp\n",
    "            if !haskey(exp_and_vars[\"exp\"], exp)\n",
    "                exp_and_vars[\"exp\"][exp] = Dict(\"created\" => filename, \"accessed\" => Vector{String}())\n",
    "            end\n",
    "            exp_and_vars[\"exp\"][exp][\"created\"] = filename\n",
    "        end\n",
    "    end\n",
    "    return exp_and_vars\n",
    "end"
   ]
  },
  {
   "cell_type": "code",
   "execution_count": 47,
   "metadata": {},
   "outputs": [
    {
     "data": {
      "text/plain": [
       "check_access (generic function with 1 method)"
      ]
     },
     "metadata": {},
     "output_type": "display_data"
    }
   ],
   "source": [
    "function check_access(filepaths::Dict{String, String}, target_names::Vector{String})\n",
    "    file_accesses = Dict{String, Vector{String}}()\n",
    "    for (filename, filepath) in filepaths\n",
    "        filestring = clean_file(filepath)\n",
    "        file_accesses[filename] = Vector{String}()\n",
    "        for target_name in target_names\n",
    "            if contains(filestring, target_name)\n",
    "                push!(file_accesses[filename], target_name)\n",
    "            end\n",
    "        end\n",
    "    end\n",
    "    return file_accesses\n",
    "end"
   ]
  },
  {
   "cell_type": "code",
   "execution_count": 48,
   "metadata": {},
   "outputs": [
    {
     "data": {
      "text/plain": [
       "push_accesses! (generic function with 1 method)"
      ]
     },
     "metadata": {},
     "output_type": "display_data"
    }
   ],
   "source": [
    "function push_accesses!(exp_or_vars::Dict{String, Any}, accesses::Dict{String, Vector{String}})\n",
    "    for (filename, model_names) in accesses\n",
    "        for model_name in model_names\n",
    "            push!(exp_or_vars[model_name][\"accessed\"], filename)\n",
    "        end\n",
    "    end\n",
    "end"
   ]
  },
  {
   "cell_type": "code",
   "execution_count": 49,
   "metadata": {},
   "outputs": [
    {
     "data": {
      "text/plain": [
       "get_all_accesses! (generic function with 1 method)"
      ]
     },
     "metadata": {},
     "output_type": "display_data"
    }
   ],
   "source": [
    "function get_all_accesses!(exp_and_vars::Dict{String, Dict{String, Any}}, filepaths::Dict{String, String})\n",
    "    var_accessed = check_access(filepaths, collect(keys(exp_and_vars[\"var\"])))\n",
    "    push_accesses!(exp_and_vars[\"var\"], var_accessed)\n",
    "    exp_accessed = check_access(filepaths, collect(keys(exp_and_vars[\"exp\"])))\n",
    "    push_accesses!(exp_and_vars[\"exp\"], exp_accessed)\n",
    "end"
   ]
  },
  {
   "cell_type": "code",
   "execution_count": 50,
   "metadata": {},
   "outputs": [
    {
     "data": {
      "text/plain": [
       "make_table_header (generic function with 1 method)"
      ]
     },
     "metadata": {},
     "output_type": "display_data"
    }
   ],
   "source": [
    "function make_table_header(headers::Set{String}, model_type::String)\n",
    "    fun_headers = copy(headers)\n",
    "    table_header = \"|$(model_type) name\"\n",
    "    table_divider = \"|:-\"\n",
    "    if \"created\" in fun_headers\n",
    "        table_header = string(table_header, \"|created\")\n",
    "        table_divider = string(table_divider, \"|:-\")\n",
    "        delete!(fun_headers, \"created\")\n",
    "    end    \n",
    "    for header in fun_headers\n",
    "        table_header = string(table_header, \"|\", header)\n",
    "        table_divider = string(table_divider, \"|\", \":-\")\n",
    "    end\n",
    "    table_header = string(table_header, \"|\")\n",
    "    table_divider = string(table_divider, \"|\")\n",
    "    return table_header, table_divider\n",
    "end"
   ]
  },
  {
   "cell_type": "code",
   "execution_count": 51,
   "metadata": {},
   "outputs": [
    {
     "data": {
      "text/plain": [
       "make_table_row (generic function with 1 method)"
      ]
     },
     "metadata": {},
     "output_type": "display_data"
    }
   ],
   "source": [
    "function make_table_row(model_name::String, model_dict::Dict{String, Any}, headers::Set{String})\n",
    "    table_row = \"|$(model_name)\"\n",
    "    fun_headers = copy(headers)\n",
    "    if \"created\" in fun_headers\n",
    "        table_row = string(table_row, \"|\", model_dict[\"created\"])\n",
    "        delete!(fun_headers, \"created\")\n",
    "    end\n",
    "    for header in fun_headers\n",
    "        table_row = string(table_row, \"|\", join(model_dict[header], \", \"))\n",
    "    end\n",
    "    table_row = string(table_row, \"|\")\n",
    "    return table_row\n",
    "end"
   ]
  },
  {
   "cell_type": "code",
   "execution_count": 52,
   "metadata": {},
   "outputs": [
    {
     "data": {
      "text/plain": [
       "data_2_markdown (generic function with 1 method)"
      ]
     },
     "metadata": {},
     "output_type": "display_data"
    }
   ],
   "source": [
    "function data_2_markdown(exp_or_vars::Dict{String, Any}, model_type::String, headers::Set{String})\n",
    "    table = Vector{String}()\n",
    "    push!(table, \"## $(model_type)s\")\n",
    "    table_header, table_divider = make_table_header(headers, model_type)\n",
    "    push!(table, table_header)\n",
    "    push!(table, table_divider)\n",
    "    sorted_names = sort(collect(keys(exp_or_vars)))\n",
    "    # for (name, data) in exp_or_vars\n",
    "    for name in sorted_names\n",
    "        push!(table, make_table_row(name, exp_or_vars[name], headers))\n",
    "    end\n",
    "    return table\n",
    "end"
   ]
  },
  {
   "cell_type": "code",
   "execution_count": 53,
   "metadata": {},
   "outputs": [],
   "source": [
    "# Get all Julia files in the src directory\n",
    "src_path = joinpath(dirname(pwd()), \"src\")\n",
    "filepaths = find_jl_files(src_path)\n",
    "\n",
    "# Find where all the Variables and Expressions are defined\n",
    "exp_and_vars = find_exp_var_created(filepaths)\n",
    "\n",
    "# Find where each Variable is accessed\n",
    "get_all_accesses!(exp_and_vars, filepaths)\n",
    "headers = Set{String}([\"created\", \"accessed\"])\n",
    "\n",
    "var_table = data_2_markdown(exp_and_vars[\"var\"], \"Variable\", headers)\n",
    "exp_table = data_2_markdown(exp_and_vars[\"exp\"], \"Expression\", headers)\n",
    "\n",
    "open(joinpath(pwd(), \"model_table.md\"), \"w\") do io\n",
    "    println(io, \"# Model Variables and Expressions\")\n",
    "    for line in var_table\n",
    "        println(io, line)\n",
    "    end\n",
    "    for line in exp_table\n",
    "        println(io, line)\n",
    "    end\n",
    "end\n",
    "\n",
    "# Find where the Objective is defined, and each of the components of the Objective"
   ]
  },
  {
   "cell_type": "code",
   "execution_count": 54,
   "metadata": {},
   "outputs": [
    {
     "name": "stdout",
     "output_type": "stream",
     "text": [
      "thermal_commit\n",
      "EP::Model\n",
      "inputs::Dict\n",
      "Reserves::Int\n",
      "thermal_commit_reserves\n",
      "EP::Model\n",
      "inputs::Dict\n",
      "hoursbefore\n",
      "p::Int\n",
      "t::Int\n",
      "b::UnitRange{Int}\n"
     ]
    }
   ],
   "source": [
    "filename = \"thermal_commit.jl\"\n",
    "filepath = filepaths[filename]\n",
    "filestring = clean_file(filepath)\n",
    "q = split(filestring, \"function \")\n",
    "q = q[2:end]\n",
    "for w in q\n",
    "    # w = q[1]\n",
    "    w = split(w, \"(\")\n",
    "    fun_name = w[1]\n",
    "    fun_args = split(split(w[2], \")\")[1], \", \")\n",
    "    println(fun_name)\n",
    "    for a in fun_args\n",
    "        println(a)\n",
    "    end\n",
    "end"
   ]
  },
  {
   "cell_type": "code",
   "execution_count": 57,
   "metadata": {},
   "outputs": [
    {
     "data": {
      "text/plain": [
       "find_functions (generic function with 1 method)"
      ]
     },
     "metadata": {},
     "output_type": "display_data"
    }
   ],
   "source": [
    "function find_functions(filepaths::Dict{String, String})\n",
    "    function_names = Dict{String, String}()\n",
    "    for (filename, filepath) in filepaths\n",
    "        filestring = clean_file(filepath)\n",
    "        new_functions = filter_filestring(filestring, \"function \")\n",
    "        for fun in new_functions\n",
    "            if !haskey(function_names, fun)\n",
    "                function_names[fun] = filename\n",
    "            end\n",
    "        end\n",
    "    end\n",
    "    return function_names\n",
    "end"
   ]
  }
 ],
 "metadata": {
  "kernelspec": {
   "display_name": "Julia 1.8.2",
   "language": "julia",
   "name": "julia-1.8"
  },
  "language_info": {
   "file_extension": ".jl",
   "mimetype": "application/julia",
   "name": "julia",
   "version": "1.8.2"
  },
  "orig_nbformat": 4
 },
 "nbformat": 4,
 "nbformat_minor": 2
}
