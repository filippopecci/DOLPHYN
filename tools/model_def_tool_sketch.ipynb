{
 "cells": [
  {
   "cell_type": "code",
   "execution_count": 66,
   "metadata": {},
   "outputs": [
    {
     "data": {
      "text/plain": [
       "filter_jl_files (generic function with 1 method)"
      ]
     },
     "metadata": {},
     "output_type": "display_data"
    }
   ],
   "source": [
    "function filter_jl_files(dir_list::Vector{String})\n",
    "    jl_files = filter(x -> endswith(x, \".jl\"), dir_list)\n",
    "    non_jl_files = setdiff(dir_list, jl_files)\n",
    "    return jl_files, non_jl_files\n",
    "end"
   ]
  },
  {
   "cell_type": "code",
   "execution_count": 67,
   "metadata": {},
   "outputs": [
    {
     "data": {
      "text/plain": [
       "add_filepaths! (generic function with 1 method)"
      ]
     },
     "metadata": {},
     "output_type": "display_data"
    }
   ],
   "source": [
    "function add_filepaths!(file_dict::Dict{String, String}, dir_path::String, dir_list::Vector{String})\n",
    "    for file in dir_list\n",
    "        file_dict[file] = joinpath(dir_path, file)\n",
    "    end\n",
    "end"
   ]
  },
  {
   "cell_type": "code",
   "execution_count": 68,
   "metadata": {},
   "outputs": [
    {
     "data": {
      "text/plain": [
       "find_jl_files (generic function with 1 method)"
      ]
     },
     "metadata": {},
     "output_type": "display_data"
    }
   ],
   "source": [
    "function find_jl_files(dir_path::String)\n",
    "    file_dict = Dict{String, String}()\n",
    "    jl_files, non_jl_files = filter_jl_files(readdir(dir_path))\n",
    "    add_filepaths!(file_dict, dir_path, jl_files)\n",
    "    new_dirs = filter(x -> isdir(joinpath(dir_path, x)), non_jl_files)\n",
    "    for new_dir in new_dirs\n",
    "        merge!(file_dict, find_jl_files(joinpath(dir_path, new_dir)))\n",
    "    end\n",
    "    return file_dict\n",
    "end"
   ]
  },
  {
   "cell_type": "code",
   "execution_count": 69,
   "metadata": {},
   "outputs": [
    {
     "data": {
      "text/plain": [
       "filter_exp_var! (generic function with 1 method)"
      ]
     },
     "metadata": {},
     "output_type": "display_data"
    }
   ],
   "source": [
    "function filter_exp_var!(exp_and_vars::Dict{String, Dict{String, String}}, line::String)\n",
    "    if contains(line, \"@variable\")\n",
    "        var_name = get_var_name(line)\n",
    "        exp_and_vars[\"var\"][var_name] = file_name\n",
    "    elseif contains(line, \"@expression\")\n",
    "        exp_name = get_exp_name(line)\n",
    "        exp_and_vars[\"exp\"][exp_name] = file_name\n",
    "    end\n",
    "end"
   ]
  },
  {
   "cell_type": "code",
   "execution_count": 70,
   "metadata": {},
   "outputs": [
    {
     "data": {
      "text/plain": [
       "clean_file (generic function with 1 method)"
      ]
     },
     "metadata": {},
     "output_type": "display_data"
    }
   ],
   "source": [
    "function clean_file(dir_path::String)\n",
    "    open(dir_path, \"r\") do file\n",
    "        output_lines = \"\"\n",
    "        for line in eachline(file)\n",
    "            if !startswith(line, \"#\") && line != \"\"\n",
    "                # Remove tabs\n",
    "                line = replace(line, \"\\t\" => \" \")\n",
    "                # Make all one line, but add space to avoid concatenating words\n",
    "                output_lines = string(output_lines, \" \", line)\n",
    "            end\n",
    "        end\n",
    "        return output_lines\n",
    "    end\n",
    "end"
   ]
  },
  {
   "cell_type": "code",
   "execution_count": 71,
   "metadata": {},
   "outputs": [
    {
     "data": {
      "text/plain": [
       "extract_model_name (generic function with 1 method)"
      ]
     },
     "metadata": {},
     "output_type": "display_data"
    }
   ],
   "source": [
    "function extract_model_name(filestring::AbstractString, filter_prefix::AbstractString)\n",
    "    x = split(filestring, \",\")\n",
    "    # Try to extract the name based on a prefix\n",
    "    x2 = split(x[2], \" \")\n",
    "    x2 = filter(x -> startswith(x, filter_prefix), x2)\n",
    "    if !isempty(x2)\n",
    "        x = x2[1]\n",
    "    else\n",
    "        x = x[2]\n",
    "    end\n",
    "    # Remove any indexing\n",
    "    if contains(x, \"[\")\n",
    "        x = split(x, \"[\")[1]\n",
    "    end\n",
    "    # Remove whitespace\n",
    "    return strip(x)\n",
    "end"
   ]
  },
  {
   "cell_type": "code",
   "execution_count": 72,
   "metadata": {},
   "outputs": [
    {
     "data": {
      "text/plain": [
       "filter_filestring! (generic function with 1 method)"
      ]
     },
     "metadata": {},
     "output_type": "display_data"
    }
   ],
   "source": [
    "function filter_filestring!(filestring::String, filter_string::String)\n",
    "    cases = split(filestring, filter_string)\n",
    "    outputs = Vector{String}()\n",
    "    filter_prefix = string(filter_string[2])\n",
    "    for i in 2:length(cases)\n",
    "        push!(outputs, extract_model_name(cases[i], filter_prefix))\n",
    "    end\n",
    "    return outputs\n",
    "end"
   ]
  },
  {
   "cell_type": "code",
   "execution_count": 73,
   "metadata": {},
   "outputs": [
    {
     "data": {
      "text/plain": [
       "find_exp_var_createds (generic function with 1 method)"
      ]
     },
     "metadata": {},
     "output_type": "display_data"
    }
   ],
   "source": [
    "function find_exp_var_createds(file_dict::Dict{String, String})\n",
    "    # exp_and_vars = Dict{String, Dict{String, String}}(\"var\" => Dict{String, String}(), \"exp\" => Dict{String, String}())\n",
    "    exp_and_vars = Dict(\"var\" => Dict{String, Any}(), \"exp\" => Dict{String, Any}())\n",
    "    for (file_name, file_path) in file_dict\n",
    "        # println(file_name)\n",
    "        file_string = clean_file(file_path)\n",
    "        new_var = filter_filestring!(file_string, \"@variable\")\n",
    "        for var in new_var\n",
    "            if !haskey(exp_and_vars[\"var\"], var)\n",
    "                exp_and_vars[\"var\"][var] = Dict(\"created\" => file_name, \"accessed\" => Vector{String}())\n",
    "            end\n",
    "            exp_and_vars[\"var\"][var][\"created\"] = file_name\n",
    "        end\n",
    "        new_exp = filter_filestring!(file_string, \"@expression\")\n",
    "        for exp in new_exp\n",
    "            if !haskey(exp_and_vars[\"exp\"], exp)\n",
    "                exp_and_vars[\"exp\"][exp] = Dict(\"created\" => file_name, \"accessed\" => Vector{String}())\n",
    "            end\n",
    "            exp_and_vars[\"exp\"][exp][\"created\"] = file_name\n",
    "        end\n",
    "    end\n",
    "    return exp_and_vars\n",
    "end"
   ]
  },
  {
   "cell_type": "code",
   "execution_count": 74,
   "metadata": {},
   "outputs": [
    {
     "data": {
      "text/plain": [
       "check_access (generic function with 1 method)"
      ]
     },
     "metadata": {},
     "output_type": "display_data"
    }
   ],
   "source": [
    "function check_access(file_dict::Dict{String, String}, target_names::Vector{String})\n",
    "    file_accesses = Dict{String, Vector{String}}()\n",
    "    for (file_name, file_path) in file_dict\n",
    "        file_string = clean_file(file_path)\n",
    "        file_accesses[file_name] = Vector{String}()\n",
    "        for target_name in target_names\n",
    "            if contains(file_string, target_name)\n",
    "                push!(file_accesses[file_name], target_name)\n",
    "            end\n",
    "        end\n",
    "    end\n",
    "    return file_accesses\n",
    "end"
   ]
  },
  {
   "cell_type": "code",
   "execution_count": 75,
   "metadata": {},
   "outputs": [
    {
     "data": {
      "text/plain": [
       "get_all_accesses! (generic function with 1 method)"
      ]
     },
     "metadata": {},
     "output_type": "display_data"
    }
   ],
   "source": [
    "function get_all_accesses!(exp_and_vars::Dict{String, Dict{String, Any}}, file_dict::Dict{String, String})\n",
    "    var_accessed = check_access(file_dict, collect(keys(exp_and_vars[\"var\"])))\n",
    "    for (file_name, var_names) in var_accessed\n",
    "        for var_name in var_names\n",
    "            push!(exp_and_vars[\"var\"][var_name][\"accessed\"], file_name)\n",
    "        end\n",
    "    end\n",
    "    exp_accessed = check_access(file_dict, collect(keys(exp_and_vars[\"exp\"])))\n",
    "    for (file_name, exp_names) in exp_accessed\n",
    "        for exp_name in exp_names\n",
    "            push!(exp_and_vars[\"exp\"][exp_name][\"accessed\"], file_name)\n",
    "        end\n",
    "    end\n",
    "    return exp_and_vars\n",
    "end"
   ]
  },
  {
   "cell_type": "code",
   "execution_count": 76,
   "metadata": {},
   "outputs": [
    {
     "data": {
      "text/plain": [
       "make_table_header (generic function with 1 method)"
      ]
     },
     "metadata": {},
     "output_type": "display_data"
    }
   ],
   "source": [
    "function make_table_header(headers::Set{String}, model_type::String)\n",
    "    fun_headers = copy(headers)\n",
    "    table_header = \"|$(model_type) name\"\n",
    "    table_divider = \"|:-\"\n",
    "    if \"created\" in fun_headers\n",
    "        table_header = string(table_header, \"|created\")\n",
    "        table_divider = string(table_divider, \"|:-\")\n",
    "        delete!(fun_headers, \"created\")\n",
    "    end    \n",
    "    for header in fun_headers\n",
    "        table_header = string(table_header, \"|\", header)\n",
    "        table_divider = string(table_divider, \"|\", \":-\")\n",
    "    end\n",
    "    table_header = string(table_header, \"|\")\n",
    "    table_divider = string(table_divider, \"|\")\n",
    "    return table_header, table_divider\n",
    "end"
   ]
  },
  {
   "cell_type": "code",
   "execution_count": 77,
   "metadata": {},
   "outputs": [
    {
     "data": {
      "text/plain": [
       "make_table_row (generic function with 1 method)"
      ]
     },
     "metadata": {},
     "output_type": "display_data"
    }
   ],
   "source": [
    "function make_table_row(model_name::String, model_dict::Dict{String, Any}, headers::Set{String})\n",
    "    table_row = \"|$(model_name)\"\n",
    "    fun_headers = copy(headers)\n",
    "    if \"created\" in fun_headers\n",
    "        table_row = string(table_row, \"|\", model_dict[\"created\"])\n",
    "        delete!(fun_headers, \"created\")\n",
    "    end\n",
    "    for header in fun_headers\n",
    "        table_row = string(table_row, \"|\", join(model_dict[header], \", \"))\n",
    "    end\n",
    "    table_row = string(table_row, \"|\")\n",
    "    return table_row\n",
    "end"
   ]
  },
  {
   "cell_type": "code",
   "execution_count": 78,
   "metadata": {},
   "outputs": [
    {
     "data": {
      "text/plain": [
       "data_2_markdown (generic function with 1 method)"
      ]
     },
     "metadata": {},
     "output_type": "display_data"
    }
   ],
   "source": [
    "function data_2_markdown(exp_or_vars::Dict{String, Any}, model_type::String, headers::Set{String})\n",
    "    table = Vector{String}()\n",
    "    push!(table, \"## $(model_type)s\")\n",
    "    table_header, table_divider = make_table_header(headers, model_type)\n",
    "    push!(table, table_header)\n",
    "    push!(table, table_divider)\n",
    "    sorted_names = sort(collect(keys(exp_or_vars)))\n",
    "    # for (name, data) in exp_or_vars\n",
    "    for name in sorted_names\n",
    "        push!(table, make_table_row(name, exp_or_vars[name], headers))\n",
    "    end\n",
    "    return table\n",
    "end"
   ]
  },
  {
   "cell_type": "code",
   "execution_count": 79,
   "metadata": {},
   "outputs": [],
   "source": [
    "# Get all Julia files in the src directory\n",
    "src_path = joinpath(dirname(pwd()), \"src\")\n",
    "file_dict = find_jl_files(src_path)\n",
    "\n",
    "# Find where all the Variables and Expressions are defined\n",
    "exp_and_vars = find_exp_var_createds(file_dict)\n",
    "\n",
    "# Find where each Variable is accessed\n",
    "exp_and_vars = get_all_accesses!(exp_and_vars, file_dict)\n",
    "headers = Set{String}([\"created\", \"accessed\"])\n",
    "\n",
    "var_table = data_2_markdown(exp_and_vars[\"var\"], \"Variable\", headers)\n",
    "exp_table = data_2_markdown(exp_and_vars[\"exp\"], \"Expression\", headers)\n",
    "\n",
    "open(joinpath(pwd(), \"model_table.md\"), \"w\") do io\n",
    "    println(io, \"# Model Variables and Expressions\")\n",
    "    for line in var_table\n",
    "        println(io, line)\n",
    "    end\n",
    "    for line in exp_table\n",
    "        println(io, line)\n",
    "    end\n",
    "end\n",
    "\n",
    "# Find where the Objective is defined, and each of the components of the Objective"
   ]
  }
 ],
 "metadata": {
  "kernelspec": {
   "display_name": "Julia 1.8.2",
   "language": "julia",
   "name": "julia-1.8"
  },
  "language_info": {
   "file_extension": ".jl",
   "mimetype": "application/julia",
   "name": "julia",
   "version": "1.8.2"
  },
  "orig_nbformat": 4
 },
 "nbformat": 4,
 "nbformat_minor": 2
}
