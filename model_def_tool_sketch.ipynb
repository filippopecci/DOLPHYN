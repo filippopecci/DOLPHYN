{
 "cells": [
  {
   "cell_type": "code",
   "execution_count": 23,
   "metadata": {},
   "outputs": [
    {
     "data": {
      "text/plain": [
       "filter_jl_files (generic function with 1 method)"
      ]
     },
     "metadata": {},
     "output_type": "display_data"
    }
   ],
   "source": [
    "function filter_jl_files(dir_list::Vector{String})\n",
    "    jl_files = filter(x -> endswith(x, \".jl\"), dir_list)\n",
    "    non_jl_files = setdiff(dir_list, jl_files)\n",
    "    return jl_files, non_jl_files\n",
    "end"
   ]
  },
  {
   "cell_type": "code",
   "execution_count": 45,
   "metadata": {},
   "outputs": [
    {
     "data": {
      "text/plain": [
       "add_filepaths! (generic function with 1 method)"
      ]
     },
     "metadata": {},
     "output_type": "display_data"
    }
   ],
   "source": [
    "function add_filepaths!(file_dict::Dict{String, String}, dir_path::String, dir_list::Vector{String})\n",
    "    for file in dir_list\n",
    "        file_dict[file] = joinpath(dir_path, file)\n",
    "    end\n",
    "end"
   ]
  },
  {
   "cell_type": "code",
   "execution_count": 66,
   "metadata": {},
   "outputs": [
    {
     "data": {
      "text/plain": [
       "find_jl_files (generic function with 1 method)"
      ]
     },
     "metadata": {},
     "output_type": "display_data"
    }
   ],
   "source": [
    "function find_jl_files(dir_path::String)\n",
    "    file_dict = Dict{String, String}()\n",
    "    jl_files, non_jl_files = filter_jl_files(readdir(dir_path))\n",
    "    add_filepaths!(file_dict, dir_path, jl_files)\n",
    "    new_dirs = filter(x -> isdir(joinpath(dir_path, x)), non_jl_files)\n",
    "    for new_dir in new_dirs\n",
    "        merge!(file_dict, find_jl_files(joinpath(dir_path, new_dir)))\n",
    "    end\n",
    "    return file_dict\n",
    "end"
   ]
  },
  {
   "cell_type": "code",
   "execution_count": 67,
   "metadata": {},
   "outputs": [
    {
     "data": {
      "text/plain": [
       "Dict{String, String} with 145 entries:\n",
       "  \"h2_production_commit.jl\"          => \"d:\\\\github_copies\\\\DOLPHYN-dev\\\\src\\\\H…\n",
       "  \"write_reserve_margin_revenue.jl\"  => \"d:\\\\github_copies\\\\DOLPHYN-dev\\\\src\\\\G…\n",
       "  \"load_co2_cap.jl\"                  => \"d:\\\\github_copies\\\\DOLPHYN-dev\\\\src\\\\G…\n",
       "  \"flexible_demand.jl\"               => \"d:\\\\github_copies\\\\DOLPHYN-dev\\\\src\\\\G…\n",
       "  \"investment_discharge.jl\"          => \"d:\\\\github_copies\\\\DOLPHYN-dev\\\\src\\\\G…\n",
       "  \"write_reg.jl\"                     => \"d:\\\\github_copies\\\\DOLPHYN-dev\\\\src\\\\G…\n",
       "  \"write_time_weights.jl\"            => \"d:\\\\github_copies\\\\DOLPHYN-dev\\\\src\\\\G…\n",
       "  \"load_inputs.jl\"                   => \"d:\\\\github_copies\\\\DOLPHYN-dev\\\\src\\\\G…\n",
       "  \"emissions_power.jl\"               => \"d:\\\\github_copies\\\\DOLPHYN-dev\\\\src\\\\G…\n",
       "  \"load_period_map.jl\"               => \"d:\\\\github_copies\\\\DOLPHYN-dev\\\\src\\\\G…\n",
       "  \"h2_pipeline.jl\"                   => \"d:\\\\github_copies\\\\DOLPHYN-dev\\\\src\\\\H…\n",
       "  \"load_h2_g2p_variability.jl\"       => \"d:\\\\github_copies\\\\DOLPHYN-dev\\\\src\\\\H…\n",
       "  \"write_curtailment.jl\"             => \"d:\\\\github_copies\\\\DOLPHYN-dev\\\\src\\\\G…\n",
       "  \"write_h2_pipeline_expansion.jl\"   => \"d:\\\\github_copies\\\\DOLPHYN-dev\\\\src\\\\H…\n",
       "  \"h2_production_all.jl\"             => \"d:\\\\github_copies\\\\DOLPHYN-dev\\\\src\\\\H…\n",
       "  \"load_energy_share_requirement.jl\" => \"d:\\\\github_copies\\\\DOLPHYN-dev\\\\src\\\\G…\n",
       "  \"write_charge.jl\"                  => \"d:\\\\github_copies\\\\DOLPHYN-dev\\\\src\\\\G…\n",
       "  \"write_h2_truck_flow.jl\"           => \"d:\\\\github_copies\\\\DOLPHYN-dev\\\\src\\\\H…\n",
       "  \"discharge.jl\"                     => \"d:\\\\github_copies\\\\DOLPHYN-dev\\\\src\\\\G…\n",
       "  ⋮                                  => ⋮"
      ]
     },
     "metadata": {},
     "output_type": "display_data"
    }
   ],
   "source": [
    "# Get all Julia files in the src directory\n",
    "scr_path = joinpath(pwd(), \"src\")\n",
    "file_dict = find_jl_files(scr_path)"
   ]
  },
  {
   "cell_type": "code",
   "execution_count": 68,
   "metadata": {},
   "outputs": [
    {
     "data": {
      "text/plain": [
       "get_var_name (generic function with 1 method)"
      ]
     },
     "metadata": {},
     "output_type": "display_data"
    }
   ],
   "source": [
    "function get_var_name(line::String)\n",
    "    x = split(line, \"@variable(\")\n",
    "    x = split(x[2], \",\")\n",
    "    if contains(x[2], \"[\")\n",
    "        x = split(x[2], \"[\")\n",
    "        return strip(x[1])\n",
    "    else\n",
    "        return strip(x[2])\n",
    "    end\n",
    "end"
   ]
  },
  {
   "cell_type": "code",
   "execution_count": 69,
   "metadata": {},
   "outputs": [
    {
     "data": {
      "text/plain": [
       "get_exp_name (generic function with 1 method)"
      ]
     },
     "metadata": {},
     "output_type": "display_data"
    }
   ],
   "source": [
    "function get_exp_name(line::String)\n",
    "    x = split(line, \"@expression(\")\n",
    "    x = split(x[2], \",\")\n",
    "    if contains(x[2], \"[\")\n",
    "        x = split(x[2], \"[\")\n",
    "        return strip(x[1])\n",
    "    else\n",
    "        return strip(x[2])\n",
    "    end\n",
    "end"
   ]
  },
  {
   "cell_type": "code",
   "execution_count": 70,
   "metadata": {},
   "outputs": [
    {
     "data": {
      "text/plain": [
       "filter_exp_var! (generic function with 1 method)"
      ]
     },
     "metadata": {},
     "output_type": "display_data"
    }
   ],
   "source": [
    "function filter_exp_var!(exp_and_vars::Dict{String, Dict{String, String}}, line::String)\n",
    "    if contains(line, \"@variable\")\n",
    "        var_name = get_var_name(line)\n",
    "        exp_and_vars[\"var\"][var_name] = file_name\n",
    "    elseif contains(line, \"@expression\")\n",
    "        exp_name = get_exp_name(line)\n",
    "        exp_and_vars[\"exp\"][exp_name] = file_name\n",
    "    end\n",
    "end"
   ]
  },
  {
   "cell_type": "code",
   "execution_count": 71,
   "metadata": {},
   "outputs": [
    {
     "data": {
      "text/plain": [
       "clean_file (generic function with 1 method)"
      ]
     },
     "metadata": {},
     "output_type": "display_data"
    }
   ],
   "source": [
    "function clean_file(dir_path::String)\n",
    "    open(dir_path, \"r\") do file\n",
    "        output_lines = \"\"\n",
    "        for line in eachline(file)\n",
    "            if !startswith(line, \"#\") && line != \"\"\n",
    "                output_lines = string(output_lines, strip(line))\n",
    "            end\n",
    "        end\n",
    "        return output_lines\n",
    "    end\n",
    "end"
   ]
  },
  {
   "cell_type": "code",
   "execution_count": 151,
   "metadata": {},
   "outputs": [
    {
     "data": {
      "text/plain": [
       "extract_model_name (generic function with 1 method)"
      ]
     },
     "metadata": {},
     "output_type": "display_data"
    }
   ],
   "source": [
    "function extract_model_name(filestring::AbstractString)\n",
    "    x = split(filestring, \",\")\n",
    "    if contains(x[2], \"[\")\n",
    "        x = split(x[2], \"[\")\n",
    "        return strip(x[1])\n",
    "    else\n",
    "        return strip(x[2])\n",
    "    end\n",
    "end"
   ]
  },
  {
   "cell_type": "code",
   "execution_count": 214,
   "metadata": {},
   "outputs": [
    {
     "data": {
      "text/plain": [
       "filter_filestring! (generic function with 1 method)"
      ]
     },
     "metadata": {},
     "output_type": "display_data"
    }
   ],
   "source": [
    "function filter_filestring!(filestring::String, filter_string::String)\n",
    "    cases = split(filestring, filter_string)\n",
    "    outputs = Vector{String}()\n",
    "    for i in 2:length(cases)\n",
    "        push!(outputs, extract_model_name(cases[i]))\n",
    "    end\n",
    "    return outputs\n",
    "end"
   ]
  },
  {
   "cell_type": "code",
   "execution_count": 243,
   "metadata": {},
   "outputs": [
    {
     "data": {
      "text/plain": [
       "Dict{String, Dict{String, String}} with 2 entries:\n",
       "  \"exp\" => Dict(\"eH2G2PCFix\"=>\"h2_g2p_investment.jl\", \"eTotalCVarFlexIn\"=>\"flex…\n",
       "  \"var\" => Dict(\"vREG_discharge\"=>\"reserves.jl\", \"vS_HYDRO\"=>\"hydro_res.jl\", \"v…"
      ]
     },
     "metadata": {},
     "output_type": "display_data"
    }
   ],
   "source": [
    "function find_exp_var_origins(file_dict::Dict{String, String})\n",
    "    exp_and_vars = Dict{String, Dict{String, String}}(\"var\" => Dict{String, String}(), \"exp\" => Dict{String, String}())\n",
    "    for (file_name, file_path) in file_dict\n",
    "        # println(file_name)\n",
    "        file_string = clean_file(file_path)\n",
    "        new_var = filter_filestring!(file_string, \"@variable\")\n",
    "        for var in new_var\n",
    "            exp_and_vars[\"var\"][var] = file_name\n",
    "        end\n",
    "        new_exp = filter_filestring!(file_string, \"@expression\")\n",
    "        for exp in new_exp\n",
    "            exp_and_vars[\"exp\"][exp] = file_name\n",
    "        end\n",
    "    end\n",
    "    return exp_and_vars\n",
    "end\n",
    "\n",
    "exp_and_vars = find_exp_var_origins(file_dict)"
   ]
  },
  {
   "cell_type": "code",
   "execution_count": 244,
   "metadata": {},
   "outputs": [
    {
     "data": {
      "text/plain": [
       "Dict{String, String} with 88 entries:\n",
       "  \"vREG_discharge\"    => \"reserves.jl\"\n",
       "  \"vS_HYDRO\"          => \"hydro_res.jl\"\n",
       "  \"vRSV_discharge\"    => \"reserves.jl\"\n",
       "  \"vPROD_TRANSCAP_ON\" => \"transmission.jl\"\n",
       "  \"vCONTINGENCY_AUX\"  => \"reserves.jl\"\n",
       "  \"vCHARGE_FLEX\"      => \"flexible_demand.jl\"\n",
       "  \"vH2N_full\"         => \"h2_truck_all.jl\"\n",
       "  \"vH2Ncharged\"       => \"h2_truck_all.jl\"\n",
       "  \"vH2GenShut\"        => \"h2_production_commit.jl\"\n",
       "  \"vH2Narrive_empty\"  => \"h2_truck_all.jl\"\n",
       "  \"vH2Narrive_full\"   => \"h2_truck_all.jl\"\n",
       "  \"vFLOW\"             => \"transmission.jl\"\n",
       "  \"vSHUT\"             => \"ucommit.jl\"\n",
       "  \"vPG2P\"             => \"h2_g2p_discharge.jl\"\n",
       "  \"vRETCAPENERGY\"     => \"investment_energy.jl\"\n",
       "  \"vH2TruckEnergy\"    => \"h2_truck_investment.jl\"\n",
       "  \"vH2N_empty\"        => \"h2_truck_all.jl\"\n",
       "  \"vH2Navail_full\"    => \"h2_truck_all.jl\"\n",
       "  \"vH2Ntravel_full\"   => \"h2_truck_all.jl\"\n",
       "  ⋮                   => ⋮"
      ]
     },
     "metadata": {},
     "output_type": "display_data"
    }
   ],
   "source": [
    "exp_and_vars[\"var\"]"
   ]
  },
  {
   "cell_type": "code",
   "execution_count": 245,
   "metadata": {},
   "outputs": [
    {
     "data": {
      "text/plain": [
       "Dict{String, String} with 136 entries:\n",
       "  \"eH2G2PCFix\"                 => \"h2_g2p_investment.jl\"\n",
       "  \"eTotalCVarFlexIn\"           => \"flexible_demand.jl\"\n",
       "  \"eTotalCFixCharge\"           => \"investment_charge.jl\"\n",
       "  \"eH2GenerationByZone\"        => \"h2_production.jl\"\n",
       "  \"eTotalCVarOut\"              => \"discharge.jl\"\n",
       "  \"eTotalCStartT\"              => \"ucommit.jl\"\n",
       "  \"ePowerBalanceH2G2PNoCommit\" => \"h2_g2p_no_commit.jl\"\n",
       "  \"eH2G2PTotalCap\"             => \"h2_g2p_investment.jl\"\n",
       "  \"eH2EmissionsByPlant\"        => \"emissions_hsc.jl\"\n",
       "  \"eH2GenCommit\"               => \"h2_production_commit.jl\"\n",
       "  \"eCFixCharge\"                => \"investment_charge.jl\"\n",
       "  \"eCVarH2Stor_in\"             => \"h2_storage_all.jl\"\n",
       "  \"eTotalCVarInT\"              => \"storage_all.jl\"\n",
       "  \"eTotalCFixH2TruckCharge\"    => \"h2_truck_investment.jl\"\n",
       "  \"eTotalCapCharge\"            => \"investment_charge.jl\"\n",
       "  \"eNet_Export_Flows\"          => \"transmission.jl\"\n",
       "  \"eTotalH2GenCFix\"            => \"h2_investment.jl\"\n",
       "  \"eRegReq\"                    => \"reserves.jl\"\n",
       "  \"eTotalCVarH2StorInT\"        => \"h2_storage_all.jl\"\n",
       "  ⋮                            => ⋮"
      ]
     },
     "metadata": {},
     "output_type": "display_data"
    }
   ],
   "source": [
    "exp_and_vars[\"exp\"]"
   ]
  }
 ],
 "metadata": {
  "kernelspec": {
   "display_name": "Julia 1.8.2",
   "language": "julia",
   "name": "julia-1.8"
  },
  "language_info": {
   "file_extension": ".jl",
   "mimetype": "application/julia",
   "name": "julia",
   "version": "1.8.2"
  },
  "orig_nbformat": 4
 },
 "nbformat": 4,
 "nbformat_minor": 2
}
