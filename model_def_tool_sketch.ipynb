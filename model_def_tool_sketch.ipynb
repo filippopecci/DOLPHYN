{
 "cells": [
  {
   "cell_type": "code",
   "execution_count": 271,
   "metadata": {},
   "outputs": [
    {
     "data": {
      "text/plain": [
       "filter_jl_files (generic function with 1 method)"
      ]
     },
     "metadata": {},
     "output_type": "display_data"
    }
   ],
   "source": [
    "function filter_jl_files(dir_list::Vector{String})\n",
    "    jl_files = filter(x -> endswith(x, \".jl\"), dir_list)\n",
    "    non_jl_files = setdiff(dir_list, jl_files)\n",
    "    return jl_files, non_jl_files\n",
    "end"
   ]
  },
  {
   "cell_type": "code",
   "execution_count": 272,
   "metadata": {},
   "outputs": [
    {
     "data": {
      "text/plain": [
       "add_filepaths! (generic function with 1 method)"
      ]
     },
     "metadata": {},
     "output_type": "display_data"
    }
   ],
   "source": [
    "function add_filepaths!(file_dict::Dict{String, String}, dir_path::String, dir_list::Vector{String})\n",
    "    for file in dir_list\n",
    "        file_dict[file] = joinpath(dir_path, file)\n",
    "    end\n",
    "end"
   ]
  },
  {
   "cell_type": "code",
   "execution_count": 273,
   "metadata": {},
   "outputs": [
    {
     "data": {
      "text/plain": [
       "find_jl_files (generic function with 1 method)"
      ]
     },
     "metadata": {},
     "output_type": "display_data"
    }
   ],
   "source": [
    "function find_jl_files(dir_path::String)\n",
    "    file_fict = Dict{String, String}()\n",
    "    jl_files, non_jl_files = filter_jl_files(readdir(dir_path))\n",
    "    add_filepaths(file_dict, dir_path, jl_files)\n",
    "    new_dirs = filter(x -> isdir(joinpath(dir_path, x)), non_jl_files)\n",
    "    for new_dir in new_dirs\n",
    "        merge!(file_dict, find_jl_files(joinpath(dir_path, new_dir)))\n",
    "    end\n",
    "    return file_dict\n",
    "end"
   ]
  },
  {
   "cell_type": "code",
   "execution_count": 274,
   "metadata": {},
   "outputs": [
    {
     "data": {
      "text/plain": [
       "Dict{String, String} with 145 entries:\n",
       "  \"h2_production_commit.jl\"          => \"d:\\\\github_copies\\\\DOLPHYN-dev\\\\src\\\\H…\n",
       "  \"write_reserve_margin_revenue.jl\"  => \"d:\\\\github_copies\\\\DOLPHYN-dev\\\\src\\\\G…\n",
       "  \"load_co2_cap.jl\"                  => \"d:\\\\github_copies\\\\DOLPHYN-dev\\\\src\\\\G…\n",
       "  \"flexible_demand.jl\"               => \"d:\\\\github_copies\\\\DOLPHYN-dev\\\\src\\\\G…\n",
       "  \"investment_discharge.jl\"          => \"d:\\\\github_copies\\\\DOLPHYN-dev\\\\src\\\\G…\n",
       "  \"write_time_weights.jl\"            => \"d:\\\\github_copies\\\\DOLPHYN-dev\\\\src\\\\G…\n",
       "  \"write_reg.jl\"                     => \"d:\\\\github_copies\\\\DOLPHYN-dev\\\\src\\\\G…\n",
       "  \"load_inputs.jl\"                   => \"d:\\\\github_copies\\\\DOLPHYN-dev\\\\src\\\\G…\n",
       "  \"emissions_power.jl\"               => \"d:\\\\github_copies\\\\DOLPHYN-dev\\\\src\\\\G…\n",
       "  \"load_period_map.jl\"               => \"d:\\\\github_copies\\\\DOLPHYN-dev\\\\src\\\\G…\n",
       "  \"h2_pipeline.jl\"                   => \"d:\\\\github_copies\\\\DOLPHYN-dev\\\\src\\\\H…\n",
       "  \"load_h2_g2p_variability.jl\"       => \"d:\\\\github_copies\\\\DOLPHYN-dev\\\\src\\\\H…\n",
       "  \"write_curtailment.jl\"             => \"d:\\\\github_copies\\\\DOLPHYN-dev\\\\src\\\\G…\n",
       "  \"write_h2_pipeline_expansion.jl\"   => \"d:\\\\github_copies\\\\DOLPHYN-dev\\\\src\\\\H…\n",
       "  \"h2_production_all.jl\"             => \"d:\\\\github_copies\\\\DOLPHYN-dev\\\\src\\\\H…\n",
       "  \"load_energy_share_requirement.jl\" => \"d:\\\\github_copies\\\\DOLPHYN-dev\\\\src\\\\G…\n",
       "  \"write_charge.jl\"                  => \"d:\\\\github_copies\\\\DOLPHYN-dev\\\\src\\\\G…\n",
       "  \"write_h2_truck_flow.jl\"           => \"d:\\\\github_copies\\\\DOLPHYN-dev\\\\src\\\\H…\n",
       "  \"discharge.jl\"                     => \"d:\\\\github_copies\\\\DOLPHYN-dev\\\\src\\\\G…\n",
       "  ⋮                                  => ⋮"
      ]
     },
     "metadata": {},
     "output_type": "display_data"
    }
   ],
   "source": [
    "# Get all Julia files in the src directory\n",
    "scr_path = joinpath(pwd(), \"src\")\n",
    "file_dict = find_jl_files(scr_path)"
   ]
  },
  {
   "cell_type": "code",
   "execution_count": 275,
   "metadata": {},
   "outputs": [],
   "source": [
    "# For each file, find"
   ]
  },
  {
   "cell_type": "code",
   "execution_count": 276,
   "metadata": {},
   "outputs": [
    {
     "name": "stdout",
     "output_type": "stream",
     "text": [
      "SubString{String}[\"\", \"EP, vH2GenCOMMIT[k in H2_GEN_COMMIT, t=1:T] >= 0)\"]\n",
      "SubString{String}[\"EP\", \" vH2GenCOMMIT[k in H2_GEN_COMMIT\", \" t=1:T] >= 0)\"]\n",
      "SubString{String}[\" vH2GenCOMMIT\", \"k in H2_GEN_COMMIT\"]\n",
      "vH2GenCOMMIT\n"
     ]
    }
   ],
   "source": [
    "l = \"@variable(EP, vH2GenCOMMIT[k in H2_GEN_COMMIT, t=1:T] >= 0)\"\n",
    "a = split(l, \"@variable(\")\n",
    "println(a)\n",
    "b = split(a[2], \",\")\n",
    "println(b)\n",
    "if contains(b[2], \"[\")\n",
    "    c = split(b[2], \"[\")\n",
    "end\n",
    "println(c)\n",
    "d = strip(c[1])\n",
    "println(d)"
   ]
  },
  {
   "cell_type": "code",
   "execution_count": 277,
   "metadata": {},
   "outputs": [
    {
     "name": "stdout",
     "output_type": "stream",
     "text": [
      "SubString{String}[\"\", \"EP, eTotalH2GenCStartT[t=1:T], sum(eH2GenCStart[k,t] for k in H2_GEN_COMMIT))\"]\n"
     ]
    },
    {
     "name": "stdout",
     "output_type": "stream",
     "text": [
      "SubString{String}[\"EP\", \" eTotalH2GenCStartT[t=1:T]\", \" sum(eH2GenCStart[k\", \"t] for k in H2_GEN_COMMIT))\"]\n",
      "eTotalH2GenCStartT\n"
     ]
    }
   ],
   "source": [
    "# l = \"@expression(EP, eTotalH2GenCStart, sum(eTotalH2GenCStartT[t] for t=1:T))\"\n",
    "l = \"@expression(EP, eTotalH2GenCStartT[t=1:T], sum(eH2GenCStart[k,t] for k in H2_GEN_COMMIT))\"\n",
    "a = split(l, \"@expression(\")\n",
    "println(a)\n",
    "b = split(a[2], \",\")\n",
    "println(b)\n",
    "if contains(b[2], \"[\")\n",
    "    c = split(b[2], \"[\")\n",
    "    d = strip(c[1])\n",
    "else\n",
    "    d = b[2]\n",
    "    strip(d)\n",
    "end\n",
    "println(d)"
   ]
  },
  {
   "cell_type": "code",
   "execution_count": 278,
   "metadata": {},
   "outputs": [
    {
     "data": {
      "text/plain": [
       "get_var_name (generic function with 1 method)"
      ]
     },
     "metadata": {},
     "output_type": "display_data"
    }
   ],
   "source": [
    "function get_var_name(line::String)\n",
    "    x = split(line, \"@variable(\")\n",
    "    x = split(x[2], \",\")\n",
    "    if contains(x[2], \"[\")\n",
    "        x = split(x[2], \"[\")\n",
    "        return strip(x[1])\n",
    "    else\n",
    "        return strip(x[2])\n",
    "    end\n",
    "end"
   ]
  },
  {
   "cell_type": "code",
   "execution_count": 279,
   "metadata": {},
   "outputs": [
    {
     "data": {
      "text/plain": [
       "get_exp_name (generic function with 1 method)"
      ]
     },
     "metadata": {},
     "output_type": "display_data"
    }
   ],
   "source": [
    "function get_exp_name(line::String)\n",
    "    x = split(line, \"@expression(\")\n",
    "    x = split(x[2], \",\")\n",
    "    if contains(x[2], \"[\")\n",
    "        x = split(x[2], \"[\")\n",
    "        return strip(x[1])\n",
    "    else\n",
    "        return strip(x[2])\n",
    "    end\n",
    "end"
   ]
  },
  {
   "cell_type": "code",
   "execution_count": 280,
   "metadata": {},
   "outputs": [
    {
     "data": {
      "text/plain": [
       "filter_exp_var! (generic function with 1 method)"
      ]
     },
     "metadata": {},
     "output_type": "display_data"
    }
   ],
   "source": [
    "function filter_exp_var!(exp_and_vars::Dict{String, Dict{String, String}}, line::String)\n",
    "    if contains(line, \"@variable\")\n",
    "        var_name = get_var_name(line)\n",
    "        exp_and_vars[\"var\"][var_name] = file_name\n",
    "    elseif contains(line, \"@expression\")\n",
    "        exp_name = get_exp_name(line)\n",
    "        exp_and_vars[\"exp\"][exp_name] = file_name\n",
    "    end\n",
    "end"
   ]
  },
  {
   "cell_type": "code",
   "execution_count": 281,
   "metadata": {},
   "outputs": [
    {
     "data": {
      "text/plain": [
       "find_exp_var_origins (generic function with 1 method)"
      ]
     },
     "metadata": {},
     "output_type": "display_data"
    }
   ],
   "source": [
    "function find_exp_var_origins_old(file_dict::Dict{String, String})\n",
    "    exp_and_vars = Dict{String, Dict{String, String}}(\"var\" => Dict{String, String}(), \"exp\" => Dict{String, String}())\n",
    "    for (file_name, file_path) in file_dict\n",
    "        println(file_name)\n",
    "        open(file_path) do file\n",
    "            for line in eachline(file)\n",
    "                filter_exp_var!(exp_and_vars, line)\n",
    "            end\n",
    "        end\n",
    "    end\n",
    "    return exp_and_vars\n",
    "end\n",
    "\n",
    "find_exp_var_origins_old(file_dict)\n",
    "exp_and_vars[\"var\"]"
   ]
  },
  {
   "cell_type": "code",
   "execution_count": null,
   "metadata": {},
   "outputs": [],
   "source": [
    "function clean_file(dir_path::String)\n",
    "    open(dir_path, \"r\") do file\n",
    "        output_lines = \"\"\n",
    "        for line in eachline(file)\n",
    "            if !startswith(line, \"#\") && line != \"\"\n",
    "                output_lines = string(output_lines, strip(line))\n",
    "            end\n",
    "        end\n",
    "        return output_lines\n",
    "    end\n",
    "end"
   ]
  },
  {
   "cell_type": "code",
   "execution_count": 282,
   "metadata": {},
   "outputs": [
    {
     "name": "stdout",
     "output_type": "stream",
     "text": [
      "h2_production_commit.jl\n",
      "write_reserve_margin_revenue.jl\n",
      "load_co2_cap.jl\n",
      "flexible_demand.jl\n",
      "investment_discharge.jl\n",
      "write_time_weights.jl\n",
      "write_reg.jl\n",
      "load_inputs.jl\n",
      "emissions_power.jl\n",
      "load_period_map.jl\n",
      "h2_pipeline.jl\n"
     ]
    },
    {
     "ename": "BoundsError",
     "evalue": "BoundsError: attempt to access 1-element Vector{SubString{String}} at index [2]",
     "output_type": "error",
     "traceback": [
      "BoundsError: attempt to access 1-element Vector{SubString{String}} at index [2]\n",
      "\n",
      "Stacktrace:\n",
      " [1] getindex\n",
      "   @ .\\array.jl:924 [inlined]\n",
      " [2] get_exp_name(line::String)\n",
      "   @ Main d:\\github_copies\\DOLPHYN-dev\\model_def_tool_sketch.ipynb:4\n",
      " [3] filter_exp_var!(exp_and_vars::Dict{String, Dict{String, String}}, line::String)\n",
      "   @ Main d:\\github_copies\\DOLPHYN-dev\\model_def_tool_sketch.ipynb:6\n",
      " [4] (::var\"#139#140\"{Dict{String, Dict{String, String}}})(file::IOStream)\n",
      "   @ Main d:\\github_copies\\DOLPHYN-dev\\model_def_tool_sketch.ipynb:7\n",
      " [5] open(f::var\"#139#140\"{Dict{String, Dict{String, String}}}, args::String; kwargs::Base.Pairs{Symbol, Union{}, Tuple{}, NamedTuple{(), Tuple{}}})\n",
      "   @ Base .\\io.jl:384\n",
      " [6] open\n",
      "   @ .\\io.jl:381 [inlined]\n",
      " [7] find_exp_var_origins(file_dict::Dict{String, String})\n",
      "   @ Main d:\\github_copies\\DOLPHYN-dev\\model_def_tool_sketch.ipynb:5\n",
      " [8] top-level scope\n",
      "   @ d:\\github_copies\\DOLPHYN-dev\\model_def_tool_sketch.ipynb:1"
     ]
    }
   ],
   "source": [
    "function find_exp_var_origins(file_dict::Dict{String, String})\n",
    "    exp_and_vars = Dict{String, Dict{String, String}}(\"var\" => Dict{String, String}(), \"exp\" => Dict{String, String}())\n",
    "    for (file_name, file_path) in file_dict\n",
    "        println(file_name)\n",
    "        open(file_path) do file\n",
    "            file_string = clean_file(dir_path)\n",
    "            for line in eachline(file)\n",
    "                filter_exp_var!(exp_and_vars, line)\n",
    "            end\n",
    "        end\n",
    "    end\n",
    "    return exp_and_vars\n",
    "end\n",
    "\n",
    "file_name = \"h2_pipeline.jl\"\n",
    "dir_path = file_dict[file_name]\n",
    "# file_string = Vector{String}\n",
    "file_string = clean_file(dir_path)\n",
    "\n",
    "find_exp_var_origins(file_dict)\n",
    "exp_and_vars[\"var\"]"
   ]
  },
  {
   "cell_type": "code",
   "execution_count": null,
   "metadata": {},
   "outputs": [],
   "source": []
  },
  {
   "cell_type": "code",
   "execution_count": 284,
   "metadata": {},
   "outputs": [
    {
     "data": {
      "text/plain": [
       "clean_file (generic function with 2 methods)"
      ]
     },
     "metadata": {},
     "output_type": "display_data"
    }
   ],
   "source": []
  },
  {
   "cell_type": "code",
   "execution_count": 285,
   "metadata": {},
   "outputs": [],
   "source": [
    "open(dir_path, \"r\") do file\n",
    "    output_lines = \"\"\n",
    "    for line in eachline(file)\n",
    "        if !startswith(line, \"#\") && line != \"\"\n",
    "            # push!(output_lines, line)\n",
    "            output_lines = string(output_lines, strip(line))\n",
    "        end\n",
    "    end\n",
    "end"
   ]
  },
  {
   "cell_type": "code",
   "execution_count": 286,
   "metadata": {},
   "outputs": [
    {
     "data": {
      "text/plain": [
       "\"\\\"\\\"\\\"DOLPHYN: Decision Optimization for Low-carbon Power and Hydrogen NetworksCopyright (C) 2022,  Massachusetts Institute of TechnologyThis program is free software; you can redistribute it and/or modifyit under the terms of the GNU General Public License as published by\" ⋯ 10351 bytes ⋯ \"(EP,begin[p in 1:H2_P, t in INTERIOR_SUBPERIODS],vH2PipeLevel[p, t] ==vH2PipeLevel[p, t-1] - eH2PipeFlow_net[p, t, -1] - eH2PipeFlow_net[p, t, 1]end)@constraints(EP, begin[p in 1:H2_P], vH2NPipe[p] <= inputs[\\\"pH2_Pipe_No_Max\\\"][p]end)return EPend # end H2Pipeline module\""
      ]
     },
     "metadata": {},
     "output_type": "display_data"
    }
   ],
   "source": []
  },
  {
   "cell_type": "code",
   "execution_count": 287,
   "metadata": {},
   "outputs": [],
   "source": [
    "a = Dict{String, String}()\n",
    "q = file_string\n",
    "w = split(q, \"@variable\")\n",
    "for i in 2:length(w)\n",
    "    x = w[i]\n",
    "    # println(x)\n",
    "    x = split(x, \",\")\n",
    "    # println(x)\n",
    "    if contains(x[2], \"[\")\n",
    "        x = split(x[2], \"[\")\n",
    "        # println(x)\n",
    "        a[strip(x[1])] = file_name\n",
    "    else\n",
    "        a[strip(x[2])] = file_name\n",
    "    end\n",
    "end"
   ]
  },
  {
   "cell_type": "code",
   "execution_count": 291,
   "metadata": {},
   "outputs": [],
   "source": [
    "file_name = \"h2_pipeline.jl\"\n",
    "dir_path = file_dict[file_name]\n",
    "a = Dict{String, String}()\n",
    "q = read(dir_path, String)\n",
    "w = split(q, \"@variable\")\n",
    "for i in 2:length(w)\n",
    "    x = w[i]\n",
    "    # println(x)\n",
    "    x = split(x, \",\")\n",
    "    # println(x)\n",
    "    if contains(x[2], \"[\")\n",
    "        x = split(x[2], \"[\")\n",
    "        # println(x)\n",
    "        a[strip(x[1])] = file_name\n",
    "    else\n",
    "        a[strip(x[2])] = file_name\n",
    "    end\n",
    "end\n",
    "\n",
    "file_name = \"h2_pipeline.jl\"\n",
    "dir_path = file_dict[file_name]\n",
    "b = Dict{String, String}()\n",
    "q = read(dir_path, String)\n",
    "w = split(q, \"@expression\")\n",
    "for i in 2:length(w)\n",
    "    x = w[i]\n",
    "    # println(x)\n",
    "    x = split(x, \",\")\n",
    "    # println(x)\n",
    "    if contains(x[2], \"[\")\n",
    "        x = split(x[2], \"[\")\n",
    "        # println(x)\n",
    "        b[strip(x[1])] = file_name\n",
    "    else\n",
    "        b[strip(x[2])] = file_name\n",
    "    end\n",
    "end\n"
   ]
  },
  {
   "cell_type": "code",
   "execution_count": 292,
   "metadata": {},
   "outputs": [
    {
     "data": {
      "text/plain": [
       "Dict{String, String} with 4 entries:\n",
       "  \"vH2NPipe\"        => \"h2_pipeline.jl\"\n",
       "  \"vH2PipeLevel\"    => \"h2_pipeline.jl\"\n",
       "  \"vH2PipeFlow_pos\" => \"h2_pipeline.jl\"\n",
       "  \"vH2PipeFlow_neg\" => \"h2_pipeline.jl\""
      ]
     },
     "metadata": {},
     "output_type": "display_data"
    }
   ],
   "source": [
    "a"
   ]
  },
  {
   "cell_type": "code",
   "execution_count": 293,
   "metadata": {},
   "outputs": [
    {
     "data": {
      "text/plain": [
       "Dict{String, String} with 7 entries:\n",
       "  \"ePipeZoneDemand\"                => \"h2_pipeline.jl\"\n",
       "  \"eH2PipeFlow_net\"                => \"h2_pipeline.jl\"\n",
       "  \"eCH2Pipe\"                       => \"h2_pipeline.jl\"\n",
       "  \"eH2PowerConsumptionByPipe\"      => \"h2_pipeline.jl\"\n",
       "  \"eH2NPipeNew\"                    => \"h2_pipeline.jl\"\n",
       "  \"eCH2CompPipe\"                   => \"h2_pipeline.jl\"\n",
       "  \"ePowerBalanceH2PipeCompression\" => \"h2_pipeline.jl\""
      ]
     },
     "metadata": {},
     "output_type": "display_data"
    }
   ],
   "source": [
    "b"
   ]
  },
  {
   "cell_type": "code",
   "execution_count": 294,
   "metadata": {},
   "outputs": [
    {
     "name": "stdout",
     "output_type": "stream",
     "text": [
      "\"\"\"\n",
      "DOLPHYN: Decision Optimization for Low-carbon Power and Hydrogen Networks\n",
      "Copyright (C) 2022,  Massachusetts Institute of Technology\n",
      "This program is free software; you can redistribute it and/or modify\n",
      "it under the terms of the GNU General Public License as published by\n",
      "the Free Software Foundation; either version 2 of the License, or\n",
      "(at your option) any later version.\n",
      "This program is distributed in the hope that it will be useful,\n",
      "but WITHOUT ANY WARRANTY; without even the implied warranty of\n",
      "MERCHANTABILITY or FITNESS FOR A PARTICULAR PURPOSE.  See the\n",
      "GNU General Public License for more details.\n",
      "A complete copy of the GNU General Public License v2 (GPLv2) is available\n",
      "in LICENSE.txt.  Users uncompressing this from an archive may not have\n",
      "received this license file.  If not, see <http://www.gnu.org/licenses/>.\n",
      "\"\"\"\n",
      "\n",
      "@doc raw\"\"\"\n",
      "    h2_pipeline(EP::Model, inputs::Dict, setup::Dict)\n",
      "\n",
      "This function includes the variables, expressions and objective funtion of hydrogen pipeline.\n",
      "\n",
      "This function expresses hydrogen exchange through pipeline i between two zones and can be split into H2 delivering and flowing out.\n",
      "\n",
      "This module defines the hydrogen pipeline construction decision variable $y_{i,z \\rightarrow z^{\\prime}}^{\\textrm{H,PIP}} \\forall i \\in \\mathcal{I}, z \\rightarrow z^{\\prime} \\in \\mathcal{B}$, representing newly constructed hydrogen pipeline of type $i$ through path $z \\rightarrow z^{\\prime}$.\n",
      "\n",
      "This module defines the hydrogen pipeline flow decision variable $x_{i,z \\rightarrow z^{\\prime},t}^{\\textrm{H,PIP}} \\forall i \\in \\mathcal{I}, z \\rightarrow z^{\\prime} \\in \\mathcal{B}, t \\in \\mathcal{T}$, representing hydrogen flow via pipeline of type $i$ through path $z \\rightarrow z^{\\prime}$ at time period $t$.\n",
      "\n",
      "This module defines the hydrogen pipeline storage level decision variable $U_{i,z \\rightarrow z^{\\prime},t}^{\\textrm{H,PIP}} \\forall i \\in \\mathcal{I}, z \\rightarrow z^{\\prime} \\in \\mathcal{B}, t \\in \\mathcal{T}$, representing hydrogen stored in pipeline of type $i$ through path $z \\rightarrow z^{\\prime}$ at time period $t$.\n",
      "\n",
      "The variable defined in this file named after ```vH2NPipe``` covers variable $y_{i,z \\rightarrow z^{\\prime}}^{\\textrm{H,PIP}}$.\n",
      "\n",
      "The variable defined in this file named after ```vH2PipeFlow_pos``` covers variable $x_{i,z \\rightarrow z^{\\prime},t}^{\\textrm{H,PIP+}}$.\n",
      "\n",
      "The variable defined in this file named after ```vH2PipeFlow_neg``` covers variable $x_{i,z \\rightarrow z^{\\prime},t}^{\\textrm{H,PIP-}}$.\n",
      "\n",
      "The variable defined in this file named after ```vH2PipeLevel``` covers variable $U_{i,z \\rightarrow z^{\\prime},t}^{\\textrm{H,PIP}}$.\n",
      "\n",
      "**Cost expressions**\n",
      "\n",
      "This module additionally defines contributions to the objective function from investment costs of generation (fixed OM plus construction) from all pipeline resources $i \\in \\mathcal{I}$:\n",
      "\n",
      "```math\n",
      "\\begin{equation*}\n",
      "    \\textrm{C}^{\\textrm{H,PIP,c}}=\\delta_{i}^{\\textrm{H,PIP}} \\sum_{i \\in \\mathbb{I}} \\sum_{z \\rightarrow z^{\\prime} \\in \\mathbb{B}} \\textrm{c}_{i}^{\\textrm{H,PIP}} \\textrm{L}_{z \\rightarrow z^{\\prime}} l_{i,z \\rightarrow z^{\\prime}}\n",
      "    h_{i,z \\rightarrow z^{\\prime}, t}^{\\textrm{H,PIP}}=h_{i, z \\rightarrow z^{\\prime}, t}^{\\textrm{H,PIP+}}-h_{i, z \\rightarrow z^{\\prime}, t}^{\\textrm{PIP-}} \\quad \\forall i \\in \\mathbb{I}, z \\rightarrow z^{\\prime} \\in \\mathbb{B}, t \\in \\mathbb{T}\n",
      "\\end{equation*}\n",
      " ```\n",
      "\n",
      "The flow rate of H2 through pipeline type $i$ is capped by the operational limits of the pipeline, multiplied by the number of constructed pipeline $i$\n",
      "```math\n",
      "\\begin{equation*}\n",
      "    \\overline{\\textrm{F}}_{i} l_{i,z \\rightarrow z^{\\prime}} \\geq x_{i,z \\rightarrow z^{\\prime}, t}^{\\textrm{\\textrm{H,PIP+}}}, x_{i,z \\rightarrow z^{\\prime}, t}^{\\textrm{\\textrm{H,PIP-}}} \\geq 0 \\quad \\forall i \\in \\mathbb{I}, z \\rightarrow z^{\\prime} \\in \\mathbb{B}, t \\in \\mathbb{T}\n",
      "\\end{equation*}    \n",
      "```\n",
      "\n",
      "The pipeline has storage capacity via line packing:\n",
      "```math\n",
      "\\begin{equation*}\n",
      "    \\overline{\\textrm{U}}_{i}^{\\textrm{\\textrm{H,PIP}}} l_{i,z \\rightarrow z^{\\prime}} \\geq -\\sum_{\\tau=t_{0}}^{t}\\left(x_{i,z^{\\prime} \\rightarrow z, \\tau}^{\\textrm{\\textrm{H,PIP}}}+x_{i,z \\rightarrow z^{\\prime}, \\tau}^{\\textrm{\\textrm{H,PIP}}}\\right) \\Delta t \\geq \\underline{\\textrm{R}}_{i}^{\\textrm{\\textrm{H,PIP}}} \\overline{\\textrm{E}}_{i}^{\\textrm{\\textrm{H,PIP}}} l_{i,z \\rightarrow z^{\\prime}} \\\\\n",
      "    & \\forall z^{\\prime} \\in \\mathbb{Z}, z \\in \\mathbb{Z}, i \\in \\mathbb{I}, t \\in \\mathbb{T}\n",
      "\\end{equation*}   \n",
      "```\n",
      "\n",
      "The change of hydrogen pipeline storage inventory is modeled as follows:\n",
      "```math\n",
      "\\begin{equation*}\n",
      "    U_{i,z \\rightarrow z^{\\prime},t}^{\\textrm{H,PIP}} - U_{i,z \\rightarrow z^{\\prime},t-1} = x_{i,z \\rightarrow z^{\\prime},t}^{\\textrm{H,PIP-}} + x_{i,z^{\\prime} \\rightarrow z,t}^{\\textrm{H,PIP-}}\n",
      "\\end{equation*}\n",
      "```\n",
      "\"\"\"\n",
      "function h2_pipeline(EP::Model, inputs::Dict, setup::Dict)\n",
      "\n",
      "    print_and_log(\"Hydrogen Pipeline Module\")\n",
      "\n",
      "    T = inputs[\"T\"] # Model operating time steps\n",
      "    Z = inputs[\"Z\"]  # Model demand zones - assumed to be same for H2 and electricity\n",
      "\n",
      "    INTERIOR_SUBPERIODS = inputs[\"INTERIOR_SUBPERIODS\"]\n",
      "    START_SUBPERIODS = inputs[\"START_SUBPERIODS\"]\n",
      "    hours_per_subperiod = inputs[\"hours_per_subperiod\"]\n",
      "\n",
      "    H2_P = inputs[\"H2_P\"] # Number of Hydrogen Pipelines\n",
      "    H2_Pipe_Map = inputs[\"H2_Pipe_Map\"]\n",
      "\n",
      "    ### Variables ###\n",
      "    @variable(EP, vH2NPipe[p = 1:H2_P] >= 0) # Number of Pipes\n",
      "    @variable(EP, vH2PipeLevel[p = 1:H2_P, t = 1:T] >= 0) # Storage in the pipe\n",
      "    @variable(EP, vH2PipeFlow_pos[p = 1:H2_P, t = 1:T, d = [1, -1]] >= 0) # positive pipeflow\n",
      "    @variable(EP, vH2PipeFlow_neg[p = 1:H2_P, t = 1:T, d = [1, -1]] >= 0) # negative pipeflow\n",
      "\n",
      "\n",
      "    ### Expressions ###\n",
      "    # Calculate the number of new pipes\n",
      "    @expression(EP, eH2NPipeNew[p = 1:H2_P], vH2NPipe[p] - inputs[\"pH2_Pipe_No_Curr\"][p])\n",
      "\n",
      "    # Calculate net flow at each pipe-zone interfrace\n",
      "    @expression(\n"
     ]
    },
    {
     "ename": "BoundsError",
     "evalue": "BoundsError: attempt to access 1-element Vector{SubString{String}} at index [2]",
     "output_type": "error",
     "traceback": [
      "BoundsError: attempt to access 1-element Vector{SubString{String}} at index [2]\n",
      "\n",
      "Stacktrace:\n",
      " [1] getindex\n",
      "   @ .\\array.jl:924 [inlined]\n",
      " [2] get_exp_name(line::String)\n",
      "   @ Main d:\\github_copies\\DOLPHYN-dev\\model_def_tool_sketch.ipynb:4\n",
      " [3] filter_exp_var!(exp_and_vars::Dict{String, Dict{String, String}}, line::String)\n",
      "   @ Main d:\\github_copies\\DOLPHYN-dev\\model_def_tool_sketch.ipynb:6\n",
      " [4] (::var\"#145#146\")(f::IOStream)\n",
      "   @ Main d:\\github_copies\\DOLPHYN-dev\\model_def_tool_sketch.ipynb:6\n",
      " [5] open(::var\"#145#146\", ::String, ::Vararg{String}; kwargs::Base.Pairs{Symbol, Union{}, Tuple{}, NamedTuple{(), Tuple{}}})\n",
      "   @ Base .\\io.jl:384\n",
      " [6] open(::Function, ::String, ::String)\n",
      "   @ Base .\\io.jl:381\n",
      " [7] top-level scope\n",
      "   @ d:\\github_copies\\DOLPHYN-dev\\model_def_tool_sketch.ipynb:3"
     ]
    }
   ],
   "source": [
    "exp_and_vars = Dict{String, Dict{String, String}}(\"exp\" => Dict{String, String}(), \"var\" => Dict{String, String}())\n",
    "file_name = \"h2_pipeline.jl\"\n",
    "open(file_dict[file_name], \"r\") do f\n",
    "    for line in eachline(f)\n",
    "        println(line)\n",
    "        filter_exp_var!(exp_and_vars, line)\n",
    "    end\n",
    "end"
   ]
  },
  {
   "cell_type": "code",
   "execution_count": 295,
   "metadata": {},
   "outputs": [
    {
     "data": {
      "text/plain": [
       "Dict{String, String} with 4 entries:\n",
       "  \"vH2NPipe\"        => \"h2_pipeline.jl\"\n",
       "  \"vH2PipeLevel\"    => \"h2_pipeline.jl\"\n",
       "  \"vH2PipeFlow_pos\" => \"h2_pipeline.jl\"\n",
       "  \"vH2PipeFlow_neg\" => \"h2_pipeline.jl\""
      ]
     },
     "metadata": {},
     "output_type": "display_data"
    }
   ],
   "source": [
    "exp_and_vars[\"var\"]"
   ]
  },
  {
   "cell_type": "code",
   "execution_count": 296,
   "metadata": {},
   "outputs": [
    {
     "data": {
      "text/plain": [
       "Dict{String, String} with 1 entry:\n",
       "  \"eH2NPipeNew\" => \"h2_pipeline.jl\""
      ]
     },
     "metadata": {},
     "output_type": "display_data"
    }
   ],
   "source": [
    "exp_and_vars[\"exp\"]"
   ]
  },
  {
   "cell_type": "code",
   "execution_count": 297,
   "metadata": {},
   "outputs": [],
   "source": [
    "ep_vars = Dict{String, String}()\n",
    "file_name = \"h2_production_commit.jl\"\n",
    "open(file_dict[file_name], \"r\") do f\n",
    "    for line in eachline(f)\n",
    "        # println(line)\n",
    "        if contains(line, \"@variable\")\n",
    "            var_name = get_var_name(line)\n",
    "            ep_vars[var_name] = file_name\n",
    "        end\n",
    "    end\n",
    "end"
   ]
  },
  {
   "cell_type": "code",
   "execution_count": 298,
   "metadata": {},
   "outputs": [
    {
     "data": {
      "text/plain": [
       "Dict{String, String} with 3 entries:\n",
       "  \"vH2GenCOMMIT\" => \"h2_production_commit.jl\"\n",
       "  \"vH2GenShut\"   => \"h2_production_commit.jl\"\n",
       "  \"vH2GenStart\"  => \"h2_production_commit.jl\""
      ]
     },
     "metadata": {},
     "output_type": "display_data"
    }
   ],
   "source": [
    "ep_vars"
   ]
  }
 ],
 "metadata": {
  "kernelspec": {
   "display_name": "Julia 1.8.2",
   "language": "julia",
   "name": "julia-1.8"
  },
  "language_info": {
   "file_extension": ".jl",
   "mimetype": "application/julia",
   "name": "julia",
   "version": "1.8.2"
  },
  "orig_nbformat": 4
 },
 "nbformat": 4,
 "nbformat_minor": 2
}
